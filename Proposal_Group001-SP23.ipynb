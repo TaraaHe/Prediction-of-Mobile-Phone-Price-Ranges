{
 "cells": [
  {
   "cell_type": "markdown",
   "metadata": {},
   "source": [
    "# COGS 118A- Project Proposal"
   ]
  },
  {
   "cell_type": "markdown",
   "metadata": {},
   "source": [
    "# Project Description\n",
    "\n",
    "You will design and execute a machine learning project. There are a few constraints on the nature of the allowed project. \n",
    "- The problem addressed will not be a \"toy problem\" or \"common training students problem\" like mtcars, iris, palmer penguins etc.\n",
    "- The dataset will have >1k observations and >5 variables. I'd prefer more like >10k observations and >10 variables. A general rule is that if you have >100x more observations than variables, your solution will likely generalize a lot better. The goal of training a supervised machine learning model is to learn the underlying pattern in a dataset in order to generalize well to unseen data, so choosing a large dataset is very important.\n",
    "\n",
    "- The project will include a model selection and/or feature selection component where you will be looking for the best setup to maximize the performance of your ML system.\n",
    "- You will evaluate the performance of your ML system using more than one appropriate metric\n",
    "- You will be writing a report describing and discussing these accomplishments\n",
    "\n",
    "\n"
   ]
  },
  {
   "cell_type": "markdown",
   "metadata": {},
   "source": [
    "### Peer Review\n",
    "\n",
    "You will all have an opportunity to look at the Project Proposals of other groups to fuel your creativity and get more ideas for how you can improve your own projects. \n",
    "\n",
    "Both the project proposal and project checkpoint will have peer review."
   ]
  },
  {
   "cell_type": "markdown",
   "metadata": {},
   "source": [
    "# Names\n",
    "\n",
    "Hopefully your team is at least this good. Obviously you should replace these with your names.\n",
    "\n",
    "- Junhui Wen\n",
    "- Huiyi He\n",
    "- Xinyi(Cindy) Wang\n",
    "- Demi Mao\n",
    "- Jiayi Zhu"
   ]
  },
  {
   "cell_type": "markdown",
   "metadata": {},
   "source": [
    "# Abstract \n",
    "\n",
    "Mobile devices have become a central part of people’s everyday lives, so it is necessary for mobile companies to understand the needs and requirements of their customers. Thus, our primary objective is to predict the price range of mobile phones given some information about a mobile phone such as battery power, clock speed, and RAM. The data we found is collected from different mobile phone companies on Kaggle. Each observation records some basic information about a phone without directly telling its model.\n",
    "\n",
    "We will do some data wrangling to remove null values, if there are some. Then, we will convert them to the right type for analysis. After that, we will perform exploratory data analysis to identify patterns and gain insights for modeling. Then we split the data into a training and testing set, select an appropriate machine learning algorithm and train on the training set. Finally, we deploy the model to make predictions on the test set. We will first measure the performance of our classifier by the accuracy/error rate. We also want to pay attention to the F1-score, which tells whether we have a balanced measure of precision and recall. "
   ]
  },
  {
   "cell_type": "markdown",
   "metadata": {},
   "source": [
    "# Background\n",
    "\n",
    "Since the last decade, the telecommunication industry has experienced great revolutions as mobile devices have become part of people’s everyday lives. With about 100 million mobile phone sales per year, the success of the mobile industry is highly dependent on its consumers<a name=\"sell_data\"></a>[<sup>[1]</sup>](#sell_data). Thus, the need and satisfaction of the user should be carefully considered when designing mobile devices and deciding the price. According to a publication of user experiences in mobile phones, by examining the correlation between several features and applying multiple regression, the size and color depth of the color screen, and the speed of webrosing of wireless connectivity are the one that is mostly related to the user satisfaction. The research paper also indicates that the presence of the camera does not affect the user's satisfaction level. However, since the study was conducted in 2006, and the technology for most camera phones were not mature enough at that time, the picture quality might be really bad, so the camera of the phone is not actually used by the user<a name=\"Ling\"></a>[<sup>[3]</sup>](#Ling). However there is no recent research on the effectiveness of mobile phones on user preference. \n",
    "\n",
    "In addition to basic understanding of how the features of the mobile phone affect the user's choices, there are research papers focusing on classifying mobile phone prices based on four physical features of the mobile phone: random accessing memory, the power of the battery, and the width and height of px. Among all four machine learning algorithms: Support Vector Machines, Decision Tree, K-Nearest Neighbor, and Naive Bayes Classification. The Support Vector Machines have the highest performance based on the standard performance matrix of accuracy, precision, recall, and F1 score with and without feature selection<a name=\"Hu\"></a>[<sup>[2]</sup>](#Hu), and the accuracy for SVM is 94.8 without feature selection and 97.7 with feature selection. In the same year 2022, another paper on classification on the price range of the mobile phone tested decision tree, random forest, and hybrid enable model of five different heterogeneous weak models was used and got respective results 85%, 91% and 96%. This provides us with some prior knowledge on algorithm selection and understanding <a name=\"Sakib\"></a>[<sup>[4]</sup>](#Sakib)."
   ]
  },
  {
   "cell_type": "markdown",
   "metadata": {},
   "source": [
    "# Problem Statement\n",
    "\n",
    "The problem we aim to address is to accurately predict mobile phone price ranges based on product characteristics, including battery power, clock speed, and RAM. Since our dataset has multiple features, one potential solution is random forest. Our problem is quantifiable as the phone features in the dataset can be represented as numerical data points, and the price range can be categorized into several different classes, making the problem expressible in mathematical terms. Moreover, the problem is measurable. The accuracy serves as a clear metric to evaluate the model. Metrics such as accuracy, precision, recall, and the F1-score can be used to assess our predictions. Finally, our problem is replicable. Our problem is based on a dataset that contains diverse phone models from various companies. As long as we have necessary features of the mobile phone, we can apply our model to predict the price range."
   ]
  },
  {
   "cell_type": "markdown",
   "metadata": {},
   "source": [
    "# Data\n",
    "\n",
    "The dataset we will be using for this task is accessible via the following link: https://www.kaggle.com/datasets/iabhishekofficial/mobile-price-classification?select=train.csv\n",
    "The dataset contains 21 variables, 1000 observations. Each observation contains information regarding the mobile phone's ID, battery power, Bluetooth capability, clock speed, dual SIM functionality, front camera megapixels (fc), 4G compatibility, internal memory, mobile depth (m_dep), mobile weight (mobile_wt), among other features.\n",
    "Before applying our Random Forest model, we will perform a thorough data cleaning and transformation process. Initially, we will check for missing values and decide whether to remove or impute the corresponding rows or columns based on the extent and nature of these missing values. We will also handle any incorrect values or outliers present in the dataset, taking care to ensure that the integrity of the data is maintained.\n",
    "Lastly, during the data transformation phase, we will examine the distribution of our data. If we find that our data is skewed, we might consider applying certain transformations, such as square root transformations, to create a more normally distributed dataset. \n",
    "\n",
    "Critical variables:\n",
    "`battery_power`: total energy a battery can store in one time measured in mAh. This is an integer in range 500 to 1999\n",
    "`blue`: has bluetooth or not. It’s represented by 1 (has bluetooth) or 0 (doesn’t have bluetooth)\n",
    "`clock_speed`: speed at which a microprocessor executes instructions. This is a decimal number between 0.5 and 3\n",
    "`dual_sim`: has dual sim support or not. It's represented by 1 (supports dual sim) and 0 (does not support dual sim).\n",
    "`int_memory`: internal memory in gigabytes. It’s represented by an integer in range 2 to 64.\n"
   ]
  },
  {
   "cell_type": "markdown",
   "metadata": {},
   "source": [
    "# Proposed Solution\n",
    "\n",
    "We will split the whole dataset into a train and test set. Within the training set, we further take some proportion out for the purpose of validation. While training the model using Random Forest, we will use k-fold cross validation and gridsearch to find the best parameter in order to find the best parameter. Then, we evaluate the best model on the testing set by metrics like accuracy and F1-score. After this, we will finally do a feature importance analysis to see which features are most influential in determining the price range. \n",
    "\n",
    "This solution would work because random forest can handle a large number of complex features compared to simple models like SVM. Also, random forest is very robust to outliers and unimportant features, so it should be a very good algorithm for the given problem.\n",
    "\n",
    "We will be comparing our model with the SVM model mentioned in the paper<a name=\"bg3\"></a>[<sup>[3]</sup>](#bg3note)."
   ]
  },
  {
   "cell_type": "markdown",
   "metadata": {},
   "source": [
    "# Evaluation Metrics\n",
    "\n",
    "To evaluate the performance of our prediction model, we will look at the accuracy and F1 values. Accuracy will show us the correctly predicted instances’ proportion to the total number of instances. F1 reflects the balance between precision and recall. A larger F1 score indicates a good trade-off between precision and recall and also represents a higher overall performance of a classification model. \n",
    "\n",
    "To calculate them, we need the values of True Positive (TP), True Negative (TN), False Positive (FP), and False Negative (FN). The formula for accuracy is (TP + TN) / (TP + TN + FP + FN). The formula for the F1 score is (2 * Precision * Recall) / (Precision + Recall), also known as (2 * TP) / (2TP + FP + FN). \n",
    "\n",
    "The reason we look at accuracy and F1 is that they provide complementary information about the predictor model’s performance to mobile phone price, which gives the mobile phone company insights to set prices for their products. "
   ]
  },
  {
   "cell_type": "markdown",
   "metadata": {},
   "source": [
    "# Ethics & Privacy"
   ]
  },
  {
   "cell_type": "markdown",
   "metadata": {},
   "source": [
    "Our project is done in a legal way, and our project will be used academically. Based on that, we acknowledge that there might be ethical and privacy issues in the project. We will consider all the possible concerns in the following paragraph.\n",
    "\n",
    "Our project dataset contained various mobile phones’ features including specific internal hardware and external structures, which are collected from different model phone companies on Kaggle.\n",
    "\n",
    "We understand that bias is an important consideration in our project as it can significantly impact the accuracy and fairness of the results. For example, the dataset might be collected over a specific time period, and the price of mobile phones is changeable over time because of technological advancements, economic conditions, and market trends. It is possible to ignore the price fluctuations which will cause the predictions not accurate to reflect the current price. Also, with the development of technology, the model phones’ functions get complicated. The features in our dataset might not contain all possible features. To mitigate those biases, we could use certain ways to process the dataset such as removing the outliers, handling missing values, and standardizing features. By performing a comprehensive analysis of the dataset, we could identify the potential bias. Also, it’s useful to do feature selection to avoid considering attributes that are at risk of bias."
   ]
  },
  {
   "cell_type": "markdown",
   "metadata": {},
   "source": [
    "# Team Expectations "
   ]
  },
  {
   "cell_type": "markdown",
   "metadata": {},
   "source": [
    "Put things here that cement how you will interact/communicate as a team, how you will handle conflict and difficulty, how you will handle making decisions and setting goals/schedule, how much work you expect from each other, how you will handle deadlines, etc...\n",
    "* Open communication: During the project, we need to always keep open communication with each other. During discussion, we need to listen to others' voices and accept various perspectives from our teammates. Maintaining healthy open communication is really helpful for group work.\n",
    "* Be respectful: If encountering any conflicts or difficulties, we need to calm down and reconsider each statement. Meanwhile, we need to always respect others' opinions and suggestions regardless of any situations.\n",
    "* Decision making: There are always various perspectives from one group team. If we find there are several options, we will consider more factors, including reviewing the project instructions again, checking the data set, and doing more research for these topics, in order to reach a better suitable decision. \n",
    "* Set schedules: We will probably use the when2meet or other schedule system to determine the final schedule. By doing these, everyone can provide their available time, and finally choose the most suitable time to be our project timeline schedule.\n",
    "* Handle deadlines: For each assignment, we will meet 2-3 times. Firstly, we will go through the instructions of each assignment, determine what we're going to do in that particular part, and assign each part to each team member. Secondly, we will meet 3 days before the deadlines, and make some adjustments to unify all points towards the target. Thirdly, if there are still some problems, we will go to the office hour, and have a third meeting to change the wrong part and make sure everything is done clearly."
   ]
  },
  {
   "cell_type": "markdown",
   "metadata": {},
   "source": [
    "# Project Timeline Proposal"
   ]
  },
  {
   "cell_type": "markdown",
   "metadata": {},
   "source": [
    "| Meeting Date  | Meeting Time| Completed Before Meeting  | Discuss at Meeting |\n",
    "|---|---|---|---|\n",
    "| 5/10  |  7 PM |  Think about what we want to do for the project; Search the corresponding dataset | Share the opinion; Discuss which topic we are interested in; Decide the topic of project; Determine the abstract; assign work to each team member | \n",
    "| 5/16  |  7 PM |  Finish the assigned part | Check if all parts are consistent throughout the whole assignment; Make adjustments; Finish proposal | \n",
    "| 5/23  | 7 PM  | Finalize and submit proposal  | Discuss the possible analytical approaches; Assign team members to specific part |\n",
    "| 5/29  | 7 PM  | Finish the assigned part | Review and make adjustments for data cleaning/EDA; Finish the checkpoint |\n",
    "| 6/6  | 7 PM  | Submit the checkpoint | Discuss the rough way to do the predictions; Assign team members to specific part |\n",
    "| 6/9  | 7 PM  | Complete the assigned parts; Finished the draft final project | Review and Edit the project content, including the code and analysis; Complete project |\n",
    "| 6/12  | 7 PM  | NA | Make the final adjustment; Turn in Final Project  |\n"
   ]
  },
  {
   "cell_type": "markdown",
   "metadata": {},
   "source": [
    "# Footnotes\n",
    "<a name=\"sell_data\"></a>1.[^](#sell_data): Mobile phone statistics 2023. Mobile Phone Statistics 2023. (n.d.). https://www.sellcell.com/mobile-phone-statistics/#sources-and-media-contacts<br> \n",
    "<a name=\"Hu\"></a>3.[^](#Hu): Hu, N. (2022). Classification of Mobile Phone Price dataset using machine learning algorithms. 2022 3rd International Conference on Pattern Recognition and Machine Learning (PRML). https://doi.org/10.1109/prml56267.2022.9882236<br>\n",
    "<a name=\"Ling\"></a>2.[^](#Ling): ALing, C., Hwang, W., &amp; Salvendy, G. (2006). Diversified users’ satisfaction with advanced mobile phone features. Universal Access in the Information Society, 5(2), 239–249. https://doi.org/10.1007/s10209-006-0028-x<br>\n",
    "<a name=\"Sakib\"></a>3.[^](#Sakib): Sakib, A. H., Shakir, A. K., Sutradhar, S., Saleh, MD. A., Akram, W., &amp; Biplop, K. B. (2022). A hybrid model for predicting mobile price range using machine learning techniques. 2022 The 8th International Conference on Computing and Data Engineering. https://doi.org/10.1145/3512850.3512860 "
   ]
  },
  {
   "cell_type": "code",
   "execution_count": null,
   "metadata": {},
   "outputs": [],
   "source": []
  }
 ],
 "metadata": {
  "kernelspec": {
   "display_name": "Python 3 (ipykernel)",
   "language": "python",
   "name": "python3"
  },
  "language_info": {
   "codemirror_mode": {
    "name": "ipython",
    "version": 3
   },
   "file_extension": ".py",
   "mimetype": "text/x-python",
   "name": "python",
   "nbconvert_exporter": "python",
   "pygments_lexer": "ipython3",
   "version": "3.9.16"
  }
 },
 "nbformat": 4,
 "nbformat_minor": 2
}
